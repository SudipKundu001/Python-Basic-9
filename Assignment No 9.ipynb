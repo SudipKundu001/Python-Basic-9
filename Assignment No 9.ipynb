{
 "cells": [
  {
   "cell_type": "markdown",
   "id": "a2129702",
   "metadata": {},
   "source": [
    ">__1. To what does a relative path refer?__"
   ]
  },
  {
   "cell_type": "markdown",
   "id": "4f84cc15",
   "metadata": {},
   "source": [
    "Ans.  relpath() method in Python is used to get a relative filepath to the given path either from the current working directory or from the given directory."
   ]
  },
  {
   "cell_type": "markdown",
   "id": "18fefbc2",
   "metadata": {},
   "source": [
    ">__2. What does an absolute path start with your operating system?__"
   ]
  },
  {
   "cell_type": "markdown",
   "id": "6fe90fd9",
   "metadata": {},
   "source": [
    "Ans.  An absolute path is a complete path from start of actual file system from / directory."
   ]
  },
  {
   "cell_type": "markdown",
   "id": "106111b1",
   "metadata": {},
   "source": [
    ">__3. What do the functions os.getcwd() and os.chdir() do?__"
   ]
  },
  {
   "cell_type": "markdown",
   "id": "5b819174",
   "metadata": {},
   "source": [
    "Ans.  you can get the current working directory with os.getcwd() and change (set) the current working directory with os.chdir() "
   ]
  },
  {
   "cell_type": "markdown",
   "id": "1cdd6c06",
   "metadata": {},
   "source": [
    ">__4. What are the . and .. folders?__"
   ]
  },
  {
   "cell_type": "markdown",
   "id": "d31e3078",
   "metadata": {},
   "source": [
    "Ans.  A directory or folder is a collection of files and subdirectories. Python has the os module that provides us with many useful methods to work with directories (and files as well)."
   ]
  },
  {
   "cell_type": "markdown",
   "id": "287fc7bb",
   "metadata": {},
   "source": [
    " >__5. In C:\\bacon\\eggs\\spam.txt, which part is the dir name, and which part is the base name?__"
   ]
  },
  {
   "cell_type": "code",
   "execution_count": 13,
   "id": "d422d57d",
   "metadata": {},
   "outputs": [
    {
     "name": "stdout",
     "output_type": "stream",
     "text": [
      "C:\\bacon\\eggs\n",
      "spam.txt\n"
     ]
    }
   ],
   "source": [
    "import os\n",
    "path = r'C:\\bacon\\eggs\\spam.txt'\n",
    "print(os.path.dirname(path)) # dir name\n",
    "print(os.path.basename(path))# base name\n"
   ]
  },
  {
   "cell_type": "markdown",
   "id": "f9eeab6d",
   "metadata": {},
   "source": [
    ">__6. What are the three “mode” arguments that can be passed to the open() function?__"
   ]
  },
  {
   "cell_type": "markdown",
   "id": "ef4d0665",
   "metadata": {},
   "source": [
    "Ans.  The three mode arguments that can be passed to the open() function are as follows: \n",
    "\n",
    "* r : Opens the file in read-only mode. ...\n",
    "* rb : Opens the file as read-only in binary format and starts reading from the beginning of the file. ...\n",
    "* r+ : Opens a file for reading and writing, placing the pointer at the beginning of the file."
   ]
  },
  {
   "cell_type": "markdown",
   "id": "646e113c",
   "metadata": {},
   "source": [
    ">__7. What happens if an existing file is opened in write mode?__"
   ]
  },
  {
   "cell_type": "markdown",
   "id": "189a5021",
   "metadata": {},
   "source": [
    "Ans.  When mode “w” is specified, it creates an empty file for output operations."
   ]
  },
  {
   "cell_type": "markdown",
   "id": "4135a456",
   "metadata": {},
   "source": [
    ">__8. How do you tell the difference between read() and readlines()?__"
   ]
  },
  {
   "cell_type": "markdown",
   "id": "befb21fd",
   "metadata": {},
   "source": [
    "Ans.  read() reads all of the file's contents into a string, readline reads just a single line from the file."
   ]
  },
  {
   "cell_type": "markdown",
   "id": "3265e61f",
   "metadata": {},
   "source": [
    ">__9. What data structure does a shelf value resemble?__"
   ]
  },
  {
   "cell_type": "markdown",
   "id": "224cab96",
   "metadata": {},
   "source": [
    "Ans.   A shelf value resembles a dictionary value; it has keys and values, along with keys() and values() methods that work similarly to the dictionary methods of the same names."
   ]
  }
 ],
 "metadata": {
  "kernelspec": {
   "display_name": "Python 3",
   "language": "python",
   "name": "python3"
  },
  "language_info": {
   "codemirror_mode": {
    "name": "ipython",
    "version": 3
   },
   "file_extension": ".py",
   "mimetype": "text/x-python",
   "name": "python",
   "nbconvert_exporter": "python",
   "pygments_lexer": "ipython3",
   "version": "3.8.8"
  }
 },
 "nbformat": 4,
 "nbformat_minor": 5
}
